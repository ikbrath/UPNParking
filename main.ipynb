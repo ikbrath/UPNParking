{
 "cells": [
  {
   "cell_type": "code",
   "execution_count": 1,
   "id": "cf416164-1ddc-488a-9781-eeab6397e8b0",
   "metadata": {},
   "outputs": [],
   "source": [
    "import cv2\n",
    "\n",
    "cap = cv2.VideoCapture(\"Bang.mp4\")\n",
    "\n",
    "\n",
    "while True:\n",
    "    ret, frame = cap.read()\n",
    "    \n",
    "    cv2.imshow( \"Bang.mp4\" ,frame)\n",
    "   \n",
    "    key = cv2.waitKey(30)\n",
    "    if key == 27:\n",
    "        break\n",
    "\n",
    "cap.release()\n",
    "cv2.destroyAllWindows()"
   ]
  },
  {
   "cell_type": "code",
   "execution_count": 6,
   "id": "45274dd1-156b-4405-badd-f32f0740edf9",
   "metadata": {},
   "outputs": [],
   "source": [
    "import cv2\n",
    "\n",
    "cap = cv2.VideoCapture(\"Bang.mp4\")\n",
    "\n",
    "deteksi = cv2.createBackgroundSubtractorMOG2()\n",
    "\n",
    "while True:\n",
    "    ret, frame = cap.read()\n",
    "    \n",
    "    area = frame [250:575, 150:700]\n",
    "    \n",
    "    objek = deteksi.apply(area)\n",
    "    \n",
    "    contours, _ = cv2.findContours(objek, cv2.RETR_TREE, cv2.CHAIN_APPROX_SIMPLE)\n",
    "    for cnt in contours:\n",
    "        luas = cv2.contourArea(cnt)\n",
    "        if luas > 4000:\n",
    "            cv2.drawContours(area, (cnt), -1, (0,255,0), 3)\n",
    "            x, y, w, h = cv2.boundingRect(cnt)\n",
    "            cv2.rectangle(area, (x,y), (x+w, y+h), (0, 255, 0), 3)\n",
    "    \n",
    "    cv2.imshow( \"Bang.mp4\" ,frame)\n",
    "    cv2.imshow(\"objek\", objek)\n",
    "    cv2.imshow(\"area\", frame)\n",
    "    \n",
    "    key = cv2.waitKey(30)\n",
    "    if key == 27:\n",
    "        break\n",
    "\n",
    "cap.release()\n",
    "cv2.destroyAllWindows()"
   ]
  },
  {
   "cell_type": "code",
   "execution_count": null,
   "id": "5189980f-5a65-45a3-9c1d-112eb5364576",
   "metadata": {},
   "outputs": [],
   "source": []
  },
  {
   "cell_type": "code",
   "execution_count": null,
   "id": "ccc389fa-3922-49d5-a8c3-843e86f46030",
   "metadata": {},
   "outputs": [],
   "source": []
  },
  {
   "cell_type": "code",
   "execution_count": null,
   "id": "60a27fd6-989f-466c-aa92-554deb3e6795",
   "metadata": {},
   "outputs": [],
   "source": []
  },
  {
   "cell_type": "code",
   "execution_count": null,
   "id": "58f8969e-33a4-4db5-bc2a-c75bd060b034",
   "metadata": {},
   "outputs": [],
   "source": []
  },
  {
   "cell_type": "code",
   "execution_count": null,
   "id": "cc896357-9980-4dc3-af5e-3c1fbf1a40b3",
   "metadata": {},
   "outputs": [],
   "source": []
  },
  {
   "cell_type": "code",
   "execution_count": null,
   "id": "605a2d07-0904-4adf-b813-fa95f6c0fa96",
   "metadata": {},
   "outputs": [],
   "source": []
  }
 ],
 "metadata": {
  "kernelspec": {
   "display_name": "Python 3 (ipykernel)",
   "language": "python",
   "name": "python3"
  },
  "language_info": {
   "codemirror_mode": {
    "name": "ipython",
    "version": 3
   },
   "file_extension": ".py",
   "mimetype": "text/x-python",
   "name": "python",
   "nbconvert_exporter": "python",
   "pygments_lexer": "ipython3",
   "version": "3.9.13"
  }
 },
 "nbformat": 4,
 "nbformat_minor": 5
}
